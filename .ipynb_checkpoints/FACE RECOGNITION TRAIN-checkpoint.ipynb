{
 "cells": [
  {
   "cell_type": "markdown",
   "metadata": {},
   "source": [
    "### FACE RECOGNITION"
   ]
  },
  {
   "cell_type": "code",
   "execution_count": 1,
   "metadata": {},
   "outputs": [],
   "source": [
    "import os\n",
    "import cv2 as cv\n",
    "import numpy as np\n"
   ]
  },
  {
   "cell_type": "code",
   "execution_count": 2,
   "metadata": {},
   "outputs": [
    {
     "name": "stdout",
     "output_type": "stream",
     "text": [
      "length of the features = 80\n",
      "length of the labels = 80\n"
     ]
    }
   ],
   "source": [
    "people = ['idris', 'kelvin', 'marcus', 'paul', 'will']\n",
    "DIR = r'C:\\Users\\Folayan Tobi\\Desktop\\image rec\\train'\n",
    "\n",
    "haar_cascade = cv.CascadeClassifier('C:/Users/Folayan Tobi/Desktop/image rec/haar_face.xml')\n",
    "\n",
    "\n",
    "features =[] # image array of the faces\n",
    "labels = [] #whose face it belongs to\n",
    "def create_train():\n",
    "    for person in people:\n",
    "        path = os.path.join(DIR, person)\n",
    "        label = people.index(person)\n",
    "        \n",
    "        for img in os.listdir(path):\n",
    "            img_path = os.path.join(path,img)\n",
    "            \n",
    "            img_array = cv.imread(img_path)\n",
    "            \n",
    "            gray = cv.cvtColor(img_array, cv.COLOR_BGR2GRAY)\n",
    "            faces_rect = haar_cascade.detectMultiScale(gray, scaleFactor=1.1,\n",
    "                                                       minNeighbors=4)\n",
    "            \n",
    "            for (x,y,w,h) in faces_rect:\n",
    "                faces_roi = gray[y:y+h,x:x+w]\n",
    "                features.append(faces_roi)\n",
    "                labels.append(label)\n",
    "                \n",
    "            \n",
    "            \n",
    "create_train()\n",
    "print(f'length of the features = {len(features)}')\n",
    "print(f'length of the labels = {len(labels)}')"
   ]
  },
  {
   "cell_type": "code",
   "execution_count": 4,
   "metadata": {},
   "outputs": [
    {
     "name": "stdout",
     "output_type": "stream",
     "text": [
      "Train done-------------\n"
     ]
    }
   ],
   "source": [
    "\n",
    "# create_train()\n",
    "# print('Train done-------------')\n",
    "\n",
    "# #convert labels and features to arrays\n",
    "# features = np.array(features, dtype='object')\n",
    "# labels = np.array(labels)\n",
    "\n",
    "# face_recognizer= cv.face.LBPHFaceRecognizer_create()\n",
    "\n",
    "# #TRAIN THE RECOGNIZER ON THE FEATURE LIST AND TRAIN LIST\n",
    "# face_recognizer.train(features,labels)\n",
    "\n",
    "# np.save('features.npy', features)\n",
    "# np.save('labels.npy', labels)"
   ]
  },
  {
   "cell_type": "code",
   "execution_count": 3,
   "metadata": {},
   "outputs": [
    {
     "name": "stdout",
     "output_type": "stream",
     "text": [
      "Train done-------------\n"
     ]
    }
   ],
   "source": [
    "#opencv allows us to use this saved recognizer in any other folder arround the world \n",
    "# and this can be done by repeating the code and insert the new lines of code\n",
    "create_train()\n",
    "print('Train done-------------')\n",
    "\n",
    "#convert labels and features to arrays\n",
    "features = np.array(features, dtype='object')\n",
    "labels = np.array(labels)\n",
    "\n",
    "face_recognizer= cv.face.LBPHFaceRecognizer_create()\n",
    "\n",
    "#TRAIN THE RECOGNIZER ON THE FEATURE LIST AND TRAIN LIST \n",
    "face_recognizer.train(features,labels)\n",
    "\n",
    "face_recognizer.save('face_trained.yml')\n",
    "np.save('features.npy', features)\n",
    "np.save('labels.npy', labels)"
   ]
  },
  {
   "cell_type": "code",
   "execution_count": null,
   "metadata": {},
   "outputs": [],
   "source": []
  }
 ],
 "metadata": {
  "kernelspec": {
   "display_name": "Python 3",
   "language": "python",
   "name": "python3"
  },
  "language_info": {
   "codemirror_mode": {
    "name": "ipython",
    "version": 3
   },
   "file_extension": ".py",
   "mimetype": "text/x-python",
   "name": "python",
   "nbconvert_exporter": "python",
   "pygments_lexer": "ipython3",
   "version": "3.7.4"
  }
 },
 "nbformat": 4,
 "nbformat_minor": 2
}
