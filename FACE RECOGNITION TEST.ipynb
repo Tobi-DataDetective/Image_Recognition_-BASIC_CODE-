{
 "cells": [
  {
   "cell_type": "code",
   "execution_count": null,
   "metadata": {},
   "outputs": [],
   "source": [
    "import numpy as np\n",
    "import cv2 as cv\n",
    "\n",
    "haar_cascade = cv.CascadeClassifier('./haar_face.xml')\n",
    "\n",
    "people = ['idris', 'kelvin', 'marcus', 'paul', 'will']\n",
    "# features = np.load('features.npy')\n",
    "# labels = np.load('labels.npy')\n",
    "\n",
    "face_recognizer= cv.face.LBPHFaceRecognizer_create()\n",
    "face_recognizer.read('face_trained.yml')\n",
    "\n",
    "img = cv.imread('./test/will1.jpg')\n",
    "\n",
    "gray = cv.cvtColor(img,cv.COLOR_BGR2GRAY)\n",
    "cv.imshow('person',gray)\n",
    "\n",
    "#detect face in the image\n",
    "face_rect = haar_cascade.detectMultiScale(gray,1.1,4)\n",
    "\n",
    "for (x,y,w,h) in face_rect:\n",
    "    faces_roi = gray[y:y+h,x:x+h]\n",
    "    \n",
    "    label, confidence = face_recognizer.predict(faces_roi)\n",
    "    print(f'label = {people[label]} with a confidence of {confidence} ')\n",
    "    \n",
    "    cv.putText(img, str(people[label]), (20,20), cv.FONT_HERSHEY_COMPLEX,1.0,\n",
    "    (0,255,0), thickness=2)\n",
    "    cv.rectangle(img, (x,y),(x+w,y+h ),(0,255,0), thickness=2)\n",
    "\n",
    "    \n",
    "cv.imshow('Detect',img)\n",
    "\n",
    "cv.waitKey(0)"
   ]
  },
  {
   "cell_type": "code",
   "execution_count": null,
   "metadata": {},
   "outputs": [],
   "source": []
  },
  {
   "cell_type": "code",
   "execution_count": null,
   "metadata": {},
   "outputs": [],
   "source": []
  }
 ],
 "metadata": {
  "kernelspec": {
   "display_name": "Python 3",
   "language": "python",
   "name": "python3"
  },
  "language_info": {
   "codemirror_mode": {
    "name": "ipython",
    "version": 3
   },
   "file_extension": ".py",
   "mimetype": "text/x-python",
   "name": "python",
   "nbconvert_exporter": "python",
   "pygments_lexer": "ipython3",
   "version": "3.7.4"
  }
 },
 "nbformat": 4,
 "nbformat_minor": 2
}
